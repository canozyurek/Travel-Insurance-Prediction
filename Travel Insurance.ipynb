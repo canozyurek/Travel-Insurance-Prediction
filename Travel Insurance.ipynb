{
 "cells": [
  {
   "cell_type": "markdown",
   "id": "86d20659",
   "metadata": {},
   "source": [
    "# Introduction"
   ]
  },
  {
   "cell_type": "markdown",
   "id": "c193aac5",
   "metadata": {},
   "source": [
    "Small accidents that could be easily covered by local health insurance plans may end up being a huge financial burden when occured abroad. Travel insurances stand as a safety net to avoid this kind of situations. \n",
    "\n",
    "As an insurance agency, we want to reach as many people as possible. However, in order to reduce our advertisement costs, we want to reach exactly those who would want to buy an insurance. In this project, we will try to identify individiuals who are likely to get a travel insurance. We will train a machine learning model to automatically mark those individuals and direct our advertisement efforts to these people. "
   ]
  },
  {
   "cell_type": "markdown",
   "id": "186cd40e",
   "metadata": {},
   "source": [
    "The current problem is that we do not know the characteristics of the people who are likely to buy a travel insurance. As we do not know those people, our advertisements tend to miss the mark when trying to reach these people. This leads to unnecessary costs, and unrewarded efforts. In order to fix this, we will use the help of machine learning models."
   ]
  },
  {
   "cell_type": "markdown",
   "id": "5110a206",
   "metadata": {},
   "source": [
    "We want to reach as many individuals who would buy an insurance, but we don't mind reaching others every now and then accidently. In order to measure, how successful our model is at this task, we will use the metric called recall. Recall measures the model's ability of correctly identifying individiuals who bought an insurance out of all people who bought an insurance. For example, if we have 100 people who bought an insurance, and our model was able to detect 70 individuals of this group correctly, this returns a recall score of 0.70. Please note that this does not take into account the individuals who did not buy an insurance, but labeled as a buyer anyway. As said before, we do not mind reaching extra people as long as we reach our audience. "
   ]
  },
  {
   "cell_type": "markdown",
   "id": "848e5e1c",
   "metadata": {},
   "source": [
    "After the model is trained, it will be ready to help us to target individuals with ads. As we will limit the number of the ads to these people, our advertisement costs will decrease. This is the main benefit we are looking to gain from this project."
   ]
  },
  {
   "cell_type": "markdown",
   "id": "751fc6a3",
   "metadata": {},
   "source": [
    "# Methodology"
   ]
  },
  {
   "cell_type": "markdown",
   "id": "e7c31b8c",
   "metadata": {},
   "source": [
    "In this project, several different python libraries were used to aid us with our objective.\n",
    "\n",
    "- Pandas\n",
    "- Numpy\n",
    "- Matplotlib\n",
    "- Seaborn\n",
    "- Scikit Learn\n",
    "- Statsmodels\n",
    "\n",
    "In order view and wrangle data, we used Pandas and Numpy libraries. These were essential in order to extract insights from the data, and in order to prepare the data to be ready to fed into machine learning models. Other libraries to gain insight were used. Matplotlib and seaborn helped us to visualize the data to see the content in a more human readable format. In order to conduct hypothesis tests, we used z-tests provided by the statsmodels library. Finally, machine learning models and the tools to prepare the data were used from the scikit learn library."
   ]
  },
  {
   "cell_type": "markdown",
   "id": "dd439bae",
   "metadata": {},
   "source": [
    "# Data Preparation"
   ]
  },
  {
   "cell_type": "code",
   "execution_count": 368,
   "id": "a4e580e6",
   "metadata": {},
   "outputs": [],
   "source": [
    "import pandas as pd\n",
    "import numpy as np\n",
    "import matplotlib.pyplot as plt\n",
    "import seaborn as sns\n",
    "import statsmodels\n",
    "from sklearn.model_selection import train_test_split, cross_validate, RandomizedSearchCV\n",
    "from sklearn.preprocessing import StandardScaler, OneHotEncoder\n",
    "from sklearn.impute import SimpleImputer\n",
    "from sklearn.compose import ColumnTransformer\n",
    "from sklearn.pipeline import Pipeline\n",
    "from sklearn.linear_model import LogisticRegression\n",
    "from sklearn.neighbors import KNeighborsClassifier\n",
    "from sklearn.svm import SVC\n",
    "from sklearn.tree import DecisionTreeClassifier\n",
    "from sklearn.naive_bayes import GaussianNB\n",
    "from sklearn.metrics import accuracy_score, recall_score, roc_auc_score, confusion_matrix, classification_report, ConfusionMatrixDisplay\n",
    "from sklearn.ensemble import RandomForestClassifier, VotingClassifier, AdaBoostClassifier, GradientBoostingClassifier"
   ]
  },
  {
   "cell_type": "code",
   "execution_count": 369,
   "id": "39889e1a",
   "metadata": {},
   "outputs": [],
   "source": [
    "import warnings\n",
    "warnings.filterwarnings('ignore')"
   ]
  },
  {
   "cell_type": "code",
   "execution_count": 370,
   "id": "b1577337",
   "metadata": {},
   "outputs": [
    {
     "data": {
      "text/html": [
       "<div>\n",
       "<style scoped>\n",
       "    .dataframe tbody tr th:only-of-type {\n",
       "        vertical-align: middle;\n",
       "    }\n",
       "\n",
       "    .dataframe tbody tr th {\n",
       "        vertical-align: top;\n",
       "    }\n",
       "\n",
       "    .dataframe thead th {\n",
       "        text-align: right;\n",
       "    }\n",
       "</style>\n",
       "<table border=\"1\" class=\"dataframe\">\n",
       "  <thead>\n",
       "    <tr style=\"text-align: right;\">\n",
       "      <th></th>\n",
       "      <th>Unnamed: 0</th>\n",
       "      <th>Age</th>\n",
       "      <th>Employment Type</th>\n",
       "      <th>GraduateOrNot</th>\n",
       "      <th>AnnualIncome</th>\n",
       "      <th>FamilyMembers</th>\n",
       "      <th>ChronicDiseases</th>\n",
       "      <th>FrequentFlyer</th>\n",
       "      <th>EverTravelledAbroad</th>\n",
       "      <th>TravelInsurance</th>\n",
       "    </tr>\n",
       "  </thead>\n",
       "  <tbody>\n",
       "    <tr>\n",
       "      <th>0</th>\n",
       "      <td>0</td>\n",
       "      <td>31</td>\n",
       "      <td>Government Sector</td>\n",
       "      <td>Yes</td>\n",
       "      <td>400000</td>\n",
       "      <td>6</td>\n",
       "      <td>1</td>\n",
       "      <td>No</td>\n",
       "      <td>No</td>\n",
       "      <td>0</td>\n",
       "    </tr>\n",
       "    <tr>\n",
       "      <th>1</th>\n",
       "      <td>1</td>\n",
       "      <td>31</td>\n",
       "      <td>Private Sector/Self Employed</td>\n",
       "      <td>Yes</td>\n",
       "      <td>1250000</td>\n",
       "      <td>7</td>\n",
       "      <td>0</td>\n",
       "      <td>No</td>\n",
       "      <td>No</td>\n",
       "      <td>0</td>\n",
       "    </tr>\n",
       "    <tr>\n",
       "      <th>2</th>\n",
       "      <td>2</td>\n",
       "      <td>34</td>\n",
       "      <td>Private Sector/Self Employed</td>\n",
       "      <td>Yes</td>\n",
       "      <td>500000</td>\n",
       "      <td>4</td>\n",
       "      <td>1</td>\n",
       "      <td>No</td>\n",
       "      <td>No</td>\n",
       "      <td>1</td>\n",
       "    </tr>\n",
       "    <tr>\n",
       "      <th>3</th>\n",
       "      <td>3</td>\n",
       "      <td>28</td>\n",
       "      <td>Private Sector/Self Employed</td>\n",
       "      <td>Yes</td>\n",
       "      <td>700000</td>\n",
       "      <td>3</td>\n",
       "      <td>1</td>\n",
       "      <td>No</td>\n",
       "      <td>No</td>\n",
       "      <td>0</td>\n",
       "    </tr>\n",
       "    <tr>\n",
       "      <th>4</th>\n",
       "      <td>4</td>\n",
       "      <td>28</td>\n",
       "      <td>Private Sector/Self Employed</td>\n",
       "      <td>Yes</td>\n",
       "      <td>700000</td>\n",
       "      <td>8</td>\n",
       "      <td>1</td>\n",
       "      <td>Yes</td>\n",
       "      <td>No</td>\n",
       "      <td>0</td>\n",
       "    </tr>\n",
       "  </tbody>\n",
       "</table>\n",
       "</div>"
      ],
      "text/plain": [
       "   Unnamed: 0  Age               Employment Type GraduateOrNot  AnnualIncome  \\\n",
       "0           0   31             Government Sector           Yes        400000   \n",
       "1           1   31  Private Sector/Self Employed           Yes       1250000   \n",
       "2           2   34  Private Sector/Self Employed           Yes        500000   \n",
       "3           3   28  Private Sector/Self Employed           Yes        700000   \n",
       "4           4   28  Private Sector/Self Employed           Yes        700000   \n",
       "\n",
       "   FamilyMembers  ChronicDiseases FrequentFlyer EverTravelledAbroad  \\\n",
       "0              6                1            No                  No   \n",
       "1              7                0            No                  No   \n",
       "2              4                1            No                  No   \n",
       "3              3                1            No                  No   \n",
       "4              8                1           Yes                  No   \n",
       "\n",
       "   TravelInsurance  \n",
       "0                0  \n",
       "1                0  \n",
       "2                1  \n",
       "3                0  \n",
       "4                0  "
      ]
     },
     "execution_count": 370,
     "metadata": {},
     "output_type": "execute_result"
    }
   ],
   "source": [
    "travel = pd.read_csv('TravelInsurancePrediction.csv')\n",
    "travel.head()"
   ]
  },
  {
   "cell_type": "markdown",
   "id": "5e657f6b",
   "metadata": {},
   "source": [
    "### Duplicate Values"
   ]
  },
  {
   "cell_type": "code",
   "execution_count": 371,
   "id": "04e10088",
   "metadata": {},
   "outputs": [
    {
     "data": {
      "text/plain": [
       "0"
      ]
     },
     "execution_count": 371,
     "metadata": {},
     "output_type": "execute_result"
    }
   ],
   "source": [
    "travel.duplicated().sum()"
   ]
  },
  {
   "cell_type": "markdown",
   "id": "5d28bcec",
   "metadata": {},
   "source": [
    "There are no duplicate rows in this dataset."
   ]
  },
  {
   "cell_type": "markdown",
   "id": "3832353b",
   "metadata": {},
   "source": [
    "### Missing Values and Data Types"
   ]
  },
  {
   "cell_type": "code",
   "execution_count": 372,
   "id": "1b099f97",
   "metadata": {},
   "outputs": [
    {
     "name": "stdout",
     "output_type": "stream",
     "text": [
      "<class 'pandas.core.frame.DataFrame'>\n",
      "RangeIndex: 1987 entries, 0 to 1986\n",
      "Data columns (total 10 columns):\n",
      " #   Column               Non-Null Count  Dtype \n",
      "---  ------               --------------  ----- \n",
      " 0   Unnamed: 0           1987 non-null   int64 \n",
      " 1   Age                  1987 non-null   int64 \n",
      " 2   Employment Type      1987 non-null   object\n",
      " 3   GraduateOrNot        1987 non-null   object\n",
      " 4   AnnualIncome         1987 non-null   int64 \n",
      " 5   FamilyMembers        1987 non-null   int64 \n",
      " 6   ChronicDiseases      1987 non-null   int64 \n",
      " 7   FrequentFlyer        1987 non-null   object\n",
      " 8   EverTravelledAbroad  1987 non-null   object\n",
      " 9   TravelInsurance      1987 non-null   int64 \n",
      "dtypes: int64(6), object(4)\n",
      "memory usage: 155.4+ KB\n"
     ]
    }
   ],
   "source": [
    "travel.info()"
   ]
  },
  {
   "cell_type": "code",
   "execution_count": 373,
   "id": "d6973721",
   "metadata": {},
   "outputs": [],
   "source": [
    "travel['ChronicDiseases'] = travel['ChronicDiseases'].astype('object')"
   ]
  },
  {
   "cell_type": "markdown",
   "id": "0560d7e1",
   "metadata": {},
   "source": [
    "### Outliers"
   ]
  },
  {
   "cell_type": "code",
   "execution_count": 374,
   "id": "2dd24720",
   "metadata": {},
   "outputs": [
    {
     "data": {
      "image/png": "[encoded data removed]",
      "text/plain": [
       "<Figure size 1440x576 with 3 Axes>"
      ]
     },
     "metadata": {
      "needs_background": "light"
     },
     "output_type": "display_data"
    }
   ],
   "source": [
    "fig, ax = plt.subplots(1, 3, figsize=(20,8))\n",
    "sns.boxplot(y='Age', data=travel, ax=ax[0])\n",
    "sns.boxplot(y='FamilyMembers', data=travel, ax=ax[1])\n",
    "sns.boxplot(y='AnnualIncome', data=travel, ax=ax[2])\n",
    "plt.ticklabel_format(style='plain', axis='y')"
   ]
  },
  {
   "cell_type": "markdown",
   "id": "c7a3c31b",
   "metadata": {},
   "source": [
    "All numeric columns are in the expected ranges."
   ]
  },
  {
   "cell_type": "markdown",
   "id": "d996c201",
   "metadata": {},
   "source": [
    "### Data Split"
   ]
  },
  {
   "cell_type": "code",
   "execution_count": 375,
   "id": "8bda92a6",
   "metadata": {},
   "outputs": [],
   "source": [
    "X = travel.drop(['TravelInsurance', 'Unnamed: 0'], axis=1)\n",
    "y = travel['TravelInsurance']"
   ]
  },
  {
   "cell_type": "code",
   "execution_count": 376,
   "id": "6aa13d68",
   "metadata": {},
   "outputs": [],
   "source": [
    "X_train, X_test, y_train, y_test = train_test_split(X, y, test_size=0.3, stratify=y, random_state=42)"
   ]
  },
  {
   "cell_type": "code",
   "execution_count": 377,
   "id": "63290112",
   "metadata": {},
   "outputs": [],
   "source": [
    "travel_train = X_train.merge(y_train, right_index=True, left_index=True)"
   ]
  },
  {
   "cell_type": "markdown",
   "id": "a81ebed2",
   "metadata": {},
   "source": [
    "# Data Analysis"
   ]
  },
  {
   "cell_type": "markdown",
   "id": "edbedbf5",
   "metadata": {},
   "source": [
    "## Travelers"
   ]
  },
  {
   "cell_type": "markdown",
   "id": "9936c261",
   "metadata": {},
   "source": [
    "Before starting to train a model to find a solution to our problem, we will try to understand the dataset and gain insight. Firstly, let's take a look at how people in this dataset have different traveling preferences. We will first look at how many people in the dataset gets insurance for their travels."
   ]
  },
  {
   "cell_type": "code",
   "execution_count": 378,
   "id": "b51909f3",
   "metadata": {},
   "outputs": [],
   "source": [
    "positions = ['top', 'left', 'right']\n",
    "def turn_spines_off(ax, positions=positions):\n",
    "  for i in positions:\n",
    "    ax.spines[i].set_visible(False)"
   ]
  },
  {
   "cell_type": "code",
   "execution_count": 379,
   "id": "a060c227",
   "metadata": {},
   "outputs": [],
   "source": [
    "def count_plots(x_col,  tick_labels, hue_col=None, title=''):\n",
    "    fig, ax = plt.subplots(figsize=(15, 8))\n",
    "    sns.countplot(x=x_col, data=travel_train, ax=ax, hue=hue_col)\n",
    "    plt.suptitle(title, fontsize=20)\n",
    "    ax.set_xticklabels(tick_labels)\n",
    "    ax.set_yticks([])\n",
    "    ax.set_ylabel('Number of Individuals', fontsize=15)\n",
    "    ax.set_xlabel(x_col, fontsize=15)\n",
    "    turn_spines_off(ax)\n",
    "    for i in range(len(ax.containers)):\n",
    "        ax.bar_label(ax.containers[i], padding=-30, fontsize=20, color='white')\n",
    "        \n",
    "    plt.show()"
   ]
  },
  {
   "cell_type": "code",
   "execution_count": 380,
   "id": "6bdc1939",
   "metadata": {},
   "outputs": [
    {
     "data": {
      "image/png": "[encoded data removed]",
      "text/plain": [
       "<Figure size 1080x576 with 1 Axes>"
      ]
     },
     "metadata": {
      "needs_background": "light"
     },
     "output_type": "display_data"
    }
   ],
   "source": [
    "count_plots(x_col='TravelInsurance',\n",
    "            title='Number of Individuals With and Without Travel Insurance', tick_labels=['No', 'Yes'])"
   ]
  },
  {
   "cell_type": "markdown",
   "id": "e2c7ffe9",
   "metadata": {},
   "source": [
    "While most people decided not to buy a travel insurance, we see that those who have an insurance are not too far behind. In our case, we should be finding similar cases and target those people who would want to buy insurance. In order to find these demographics, we will take a closer look at the dataset."
   ]
  },
  {
   "cell_type": "markdown",
   "id": "6312672a",
   "metadata": {},
   "source": [
    "Let's see how many of the people in our dataset are frequent travelers, and out of these people we want to see how many of them have insurance. These people could be more interesed in a travel insurance as they are the people who would most benefit from it."
   ]
  },
  {
   "cell_type": "code",
   "execution_count": 446,
   "id": "fc753fe1",
   "metadata": {},
   "outputs": [
    {
     "data": {
      "image/png": "[encoded data removed]",
      "text/plain": [
       "<Figure size 1080x576 with 1 Axes>"
      ]
     },
     "metadata": {
      "needs_background": "light"
     },
     "output_type": "display_data"
    }
   ],
   "source": [
    "count_plots('FrequentFlyer', hue_col='TravelInsurance',\n",
    "           title='Frequent Flyers and Individuals with Travel Insurance', tick_labels=['No', 'Yes'])"
   ]
  },
  {
   "cell_type": "markdown",
   "id": "6a05c6be",
   "metadata": {},
   "source": [
    "As expected, most people are not frequent flyers. Those who travel frequently consitute a minority of around 290 individuals. This is a stark contrast to those who are not frequent travelers, which are the majority with over a thousand people. \n",
    "\n",
    "An interesting thing to note here is that, more than half of the frequent flyers have travel insurance. The difference is not really strong, however, these people could still be a prime target for our case. \n",
    "\n",
    "On the other hand, we see that the majority of the people who do not travel frequently, does not have an insurance. However, there are still a lot of people from this demographic that opted to buy insurance. We need to investigate further to understand this."
   ]
  },
  {
   "cell_type": "markdown",
   "id": "6ffcf51d",
   "metadata": {},
   "source": [
    "Let's now look at those who traveled abroad and see how many of them decided to buy insurance. "
   ]
  },
  {
   "cell_type": "code",
   "execution_count": 382,
   "id": "5cfbc25d",
   "metadata": {},
   "outputs": [
    {
     "data": {
      "image/png": "[encoded data removed]",
      "text/plain": [
       "<Figure size 1440x576 with 2 Axes>"
      ]
     },
     "metadata": {
      "needs_background": "light"
     },
     "output_type": "display_data"
    }
   ],
   "source": [
    "frequent_flyer = travel_train['FrequentFlyer'] == 'Yes'\n",
    "\n",
    "fig, ax = plt.subplots(1, 2, figsize=(20, 8), sharey=True)\n",
    "sns.countplot(x='EverTravelledAbroad', data=travel_train[frequent_flyer], hue='TravelInsurance', ax=ax[0])\n",
    "sns.countplot(x='EverTravelledAbroad', data=travel_train[~frequent_flyer], hue='TravelInsurance', ax=ax[1])\n",
    "plt.suptitle('Individuals Who Travelled Abroad', fontsize=25)\n",
    "for i in ax:\n",
    "    for j in i.containers:\n",
    "        i.bar_label(j, fontsize=15)\n",
    "for i in range(len(ax)):\n",
    "    ax[i].set_xticklabels(['No', 'Yes'])\n",
    "    ax[i].set_yticks([])\n",
    "    ax[i].set_ylabel('Number of Individuals', fontsize=15)\n",
    "    ax[i].set_xlabel('Ever Travelled Abroad', fontsize=15)\n",
    "    \n",
    "ax[0].set_title('Frequent Flyers', fontsize=15)\n",
    "ax[1].set_title('Non-Frequent Flyers', fontsize=15)\n",
    "\n",
    "turn_spines_off(ax[0])\n",
    "turn_spines_off(ax[1])\n",
    "        \n",
    "plt.show()"
   ]
  },
  {
   "cell_type": "markdown",
   "id": "94187fcc",
   "metadata": {},
   "source": [
    "At first glance, we see that there are less people who traveled abroad at least once than those who has never traveled abroad before. Out of the group who have traveled abroad, we see that the clear majority had travel insurance. When we look at the subgroups of those who traveled abroad and those who are frequent flyers, we see that this group is insured at overwhelming rates. 104 individuals of this group were insured, while only 13 of them were uninsured. This shows us a very clear picture. People who travel abroad and travel often are the most likely group to buy insurance. \n",
    "\n",
    "On the other hand, when we checked people who traveled abroad, but were not frequent flyers, we still see that that people who chose to buy an insurance were the majority. \n",
    "\n",
    "It looks like having traveled abroad is a good indicator at determining whether an individual is likely to get insurance. "
   ]
  },
  {
   "cell_type": "markdown",
   "id": "7489740d",
   "metadata": {},
   "source": [
    "Oftentimes traveling abroad is expensive. At this point, we want to understand, whether those who traveled abroad are well-off. This could be an important insight for us, as we know that most people who traveled abroad tend to buy insurance. Let's look at the income levels in our dataset to understand this aspect better."
   ]
  },
  {
   "cell_type": "markdown",
   "id": "9c605a33",
   "metadata": {},
   "source": [
    "## Income"
   ]
  },
  {
   "cell_type": "markdown",
   "id": "ffab2f38",
   "metadata": {},
   "source": [
    "In this dataset, the income levels are given in Indian rupees. In order to adopt to our own situation, and gain a better insight, we will convert these values to Euro. After this step, we will look at the distribution to understand how different income levels are present in our dataset."
   ]
  },
  {
   "cell_type": "code",
   "execution_count": 383,
   "id": "c9a7f63c",
   "metadata": {},
   "outputs": [],
   "source": [
    "travel_train['AnnualIncome_Euro'] = travel_train['AnnualIncome'] * 0.013"
   ]
  },
  {
   "cell_type": "code",
   "execution_count": 384,
   "id": "a8c9f240",
   "metadata": {},
   "outputs": [],
   "source": [
    "def dist_plots(x_col, bins=15):\n",
    "    fig, ax = plt.subplots(figsize=(15, 8))\n",
    "    turn_spines_off(ax)\n",
    "    sns.histplot(x=x_col, data=travel_train, ax=ax, bins=bins)\n",
    "    plt.axvline(x=travel_train[x_col].mean(),\n",
    "            color='red')\n",
    "    plt.title(f\"Distribution of {x_col}\", fontsize=20)\n",
    "    plt.ylabel('Number of Individuals', fontsize=15)\n",
    "    plt.xlabel(x_col, fontsize=15)\n",
    "    plt.show()"
   ]
  },
  {
   "cell_type": "code",
   "execution_count": 385,
   "id": "9640fddb",
   "metadata": {},
   "outputs": [
    {
     "data": {
      "image/png": "[encoded data removed]",
      "text/plain": [
       "<Figure size 1080x576 with 1 Axes>"
      ]
     },
     "metadata": {
      "needs_background": "light"
     },
     "output_type": "display_data"
    }
   ],
   "source": [
    "dist_plots('AnnualIncome_Euro')"
   ]
  },
  {
   "cell_type": "markdown",
   "id": "872e8824",
   "metadata": {},
   "source": [
    "Average annual income in India is around 2200 Euros. It looks like our dataset comes from a relatively richer demographic. Mean income of the individuals from our dataset is around 12000 Euros. Also, it is easy to see that there are different subgroups of wealth in this group. Some individual seem to make much more than others. Are people who have travel insurance richer than others? Let's find this out."
   ]
  },
  {
   "cell_type": "code",
   "execution_count": 386,
   "id": "1483c5e1",
   "metadata": {},
   "outputs": [],
   "source": [
    "def bar_compare(x, y, tick_labels, title):\n",
    "    fig, ax = plt.subplots(figsize=(15,8))\n",
    "    sns.barplot(x=x, y=y, data=travel_train, ax=ax)\n",
    "    plt.suptitle(title, fontsize=20)\n",
    "    ax.set_xticklabels(tick_labels)\n",
    "    ax.set_yticks([])\n",
    "    ax.set_ylabel(y, fontsize=15)\n",
    "    ax.set_xlabel(x, fontsize=15)\n",
    "    turn_spines_off(ax)\n",
    "    for i in range(len(ax.containers)):\n",
    "        ax.bar_label(ax.containers[i], padding=-30, fontsize=20, color='white')"
   ]
  },
  {
   "cell_type": "code",
   "execution_count": 387,
   "id": "5291e8cb",
   "metadata": {},
   "outputs": [
    {
     "data": {
      "image/png": "[encoded data removed]",
      "text/plain": [
       "<Figure size 1080x576 with 1 Axes>"
      ]
     },
     "metadata": {
      "needs_background": "light"
     },
     "output_type": "display_data"
    }
   ],
   "source": [
    "bar_compare(x='TravelInsurance', y='AnnualIncome_Euro',\n",
    "           tick_labels=['No', 'Yes'], title='Comparison of Mean Annual Income Levels')"
   ]
  },
  {
   "cell_type": "markdown",
   "id": "c33da071",
   "metadata": {},
   "source": [
    "People with insurance have largely higher average income level. Average income level for people with insurance is around 14000 Euros. People without insurance have lower average income than the overall average of the dataset. This points out an important insight. People with higher incomes prefer more often to buy insurance. \n",
    "\n",
    "We also want to see the relationship between high income and travelling abroad. Before we suspected that those who travelled abroad before may have higher income levels. Let's investigate this."
   ]
  },
  {
   "cell_type": "code",
   "execution_count": 388,
   "id": "2a60a3dc",
   "metadata": {},
   "outputs": [
    {
     "data": {
      "image/png": "[encoded data removed]",
      "text/plain": [
       "<Figure size 1080x576 with 1 Axes>"
      ]
     },
     "metadata": {
      "needs_background": "light"
     },
     "output_type": "display_data"
    }
   ],
   "source": [
    "bar_compare(x='EverTravelledAbroad', y='AnnualIncome_Euro',\n",
    "           tick_labels=['No', 'Yes'], title='Comparison of Mean Annual Income Levels')"
   ]
  },
  {
   "cell_type": "markdown",
   "id": "ff913966",
   "metadata": {},
   "source": [
    "There is a clear distinction between people who have travelled abroad and those who have not in terms of income level. Those who have travelled abroad have a higher average income by around 7000 Euros.\n",
    "\n",
    "The income level we see for individuals that has never travelled abroad is very similar to those without travel insurance. However, for those who have travelled abroad the average income level is much higher. We already know that those who have experience travelling abroad are more likely to get a travel insurance. \n",
    "\n",
    "In short, we see that people who travel abroad are better off than others, and they may be more likely to buy a travel insurance."
   ]
  },
  {
   "cell_type": "markdown",
   "id": "02bf7f44",
   "metadata": {},
   "source": [
    "However, income may not be the only determining factor in an individual's preference of insurances. Education may play a factor in this. Perhaps more educated people are more likely to get insured. Let's see if this is true next."
   ]
  },
  {
   "cell_type": "markdown",
   "id": "2485911e",
   "metadata": {},
   "source": [
    "## Education"
   ]
  },
  {
   "cell_type": "markdown",
   "id": "000c0fb1",
   "metadata": {},
   "source": [
    "Let's start by checking the number of indivduals with an education of graduate level."
   ]
  },
  {
   "cell_type": "code",
   "execution_count": 389,
   "id": "1d432708",
   "metadata": {},
   "outputs": [
    {
     "data": {
      "image/png": "[encoded data removed]",
      "text/plain": [
       "<Figure size 1080x576 with 1 Axes>"
      ]
     },
     "metadata": {
      "needs_background": "light"
     },
     "output_type": "display_data"
    }
   ],
   "source": [
    "count_plots(x_col='GraduateOrNot',tick_labels=['No','Yes'],\n",
    "           title='Education Levels')"
   ]
  },
  {
   "cell_type": "markdown",
   "id": "7681330a",
   "metadata": {},
   "source": [
    "People with higher education are the clear majority in this dataset. However, we should note here that this dataset is not the whole representation of the population of India. We have seen this distinction when we checked the income levels. Since overwhelming majority of people in this dataset have graduate level education, this feature may not be very good at determining the preference towards travel insurances.\n",
    "\n",
    "Now let's see how education levels play a role in travel insurances."
   ]
  },
  {
   "cell_type": "code",
   "execution_count": 390,
   "id": "643da952",
   "metadata": {},
   "outputs": [
    {
     "data": {
      "image/png": "[encoded data removed]",
      "text/plain": [
       "<Figure size 1080x576 with 1 Axes>"
      ]
     },
     "metadata": {
      "needs_background": "light"
     },
     "output_type": "display_data"
    }
   ],
   "source": [
    "count_plots(x_col='GraduateOrNot',tick_labels=['No','Yes'],\n",
    "           title='Education Levels', hue_col='TravelInsurance')"
   ]
  },
  {
   "cell_type": "markdown",
   "id": "da83bebb",
   "metadata": {},
   "source": [
    "For people with graduate degrees and for people without one, the figures seem to follow similar ratios. In both cases, people with travel insurances are half as many people as those without one. It looks like graduate level may not be a good determining factor when predicting travel insurance."
   ]
  },
  {
   "cell_type": "markdown",
   "id": "9bcb4833",
   "metadata": {},
   "source": [
    "We will now look at another factor: age."
   ]
  },
  {
   "cell_type": "markdown",
   "id": "5226d677",
   "metadata": {},
   "source": [
    "## Age"
   ]
  },
  {
   "cell_type": "markdown",
   "id": "343df155",
   "metadata": {},
   "source": [
    "There may be a difference between younger and older people when it comes to travel insurances. Let's first look at the age distribution in our dataset to understand our demographics better. Then we will graph this against travel insurances to see if there is an actual difference between different ages. "
   ]
  },
  {
   "cell_type": "code",
   "execution_count": 391,
   "id": "110f7ab3",
   "metadata": {},
   "outputs": [
    {
     "data": {
      "image/png": "[encoded data removed]",
      "text/plain": [
       "<Figure size 1080x576 with 1 Axes>"
      ]
     },
     "metadata": {
      "needs_background": "light"
     },
     "output_type": "display_data"
    }
   ],
   "source": [
    "dist_plots('Age', bins=11)"
   ]
  },
  {
   "cell_type": "markdown",
   "id": "9d087dc4",
   "metadata": {},
   "source": [
    "All individuals in this dataset seem to be on the younger side. Most individuals are around the age of 28 and the mean age is around 29. There is not much of an age gap in this dataset. But we will still check the mean age for each insurance category."
   ]
  },
  {
   "cell_type": "code",
   "execution_count": 392,
   "id": "9a1363ce",
   "metadata": {},
   "outputs": [
    {
     "data": {
      "image/png": "[encoded data removed]",
      "text/plain": [
       "<Figure size 1080x576 with 1 Axes>"
      ]
     },
     "metadata": {
      "needs_background": "light"
     },
     "output_type": "display_data"
    }
   ],
   "source": [
    "bar_compare(x='TravelInsurance', y='Age',\n",
    "            title='Average Age for People with Insurances',\n",
    "           tick_labels=['No', 'Yes'])"
   ]
  },
  {
   "cell_type": "markdown",
   "id": "9092995d",
   "metadata": {},
   "source": [
    "Mean age for those who have travel insurance is only slightly higher than those without one. The difference does not seem to be significant, and since age is limited in this dataset, this may not be a good determining factor at predicting travel insurance. "
   ]
  },
  {
   "cell_type": "markdown",
   "id": "d1c06264",
   "metadata": {},
   "source": [
    "However, since the mean levels are very similar, we will conduct a hypothesis test to see the statistical significance of the difference."
   ]
  },
  {
   "cell_type": "markdown",
   "id": "26aacc80",
   "metadata": {},
   "source": [
    "Considering all individuals in the dataset, do people with a travel insurance have a higher age on average than those without one?\n",
    "\n",
    "**Population**: All individuals\n",
    "\n",
    "**Significance Level**: 0.05\n",
    "\n",
    "**Parameter of Interest**: $\\mu_1 - \\mu_2$,  Difference of mean age\n",
    "\n",
    "**Null Hypothesis**: $\\mu_1 = \\mu_2$\n",
    "\n",
    "**Alternative Hypothesis**: $\\mu_1 > \\mu_2$"
   ]
  },
  {
   "cell_type": "code",
   "execution_count": 393,
   "id": "9ce76a33",
   "metadata": {},
   "outputs": [],
   "source": [
    "with_insurance = travel_train['TravelInsurance'] == 1"
   ]
  },
  {
   "cell_type": "code",
   "execution_count": 394,
   "id": "d8d9a063",
   "metadata": {},
   "outputs": [
    {
     "name": "stdout",
     "output_type": "stream",
     "text": [
      "Test statistic: 2.245021131789497\n",
      "p-value: 0.012383388002836235\n"
     ]
    }
   ],
   "source": [
    "test_stat, p_value = statsmodels.stats.weightstats.ztest(travel_train.loc[with_insurance, 'Age'],\n",
    "                                                         travel_train.loc[~with_insurance, 'Age'],\n",
    "                                                         alternative='larger')\n",
    "print(f\"Test statistic: {test_stat}\\n\\\n",
    "p-value: {p_value}\")"
   ]
  },
  {
   "cell_type": "markdown",
   "id": "d79b0358",
   "metadata": {},
   "source": [
    "In order to compare these two groups, namely people with and without travel insurances, we decided to look at the difference of their mean age. We have seen before that people with a travel insurance tend to have a slighltly higher age than those without one. In order to test this, we defined an alternative hypothesis which states this assumption. \n",
    "\n",
    "The test result returns a very low p-value, which shows us enough evidence to reject the null hypothesis. The null hypothesis states that there is no significant difference between these two groups. As we have rejected this, we will accept that those with an insurance tend to have slightly higher average age than those without one. \n",
    "\n",
    "We have found a small difference but it still could have a benefit on our model."
   ]
  },
  {
   "cell_type": "markdown",
   "id": "08278b42",
   "metadata": {},
   "source": [
    "## Other Factors"
   ]
  },
  {
   "cell_type": "markdown",
   "id": "37718b49",
   "metadata": {},
   "source": [
    "There may be other factors that are related to the preference of a customer about travel insurances. Let's go over them and see if they actually have a relationship."
   ]
  },
  {
   "cell_type": "markdown",
   "id": "d4777889",
   "metadata": {},
   "source": [
    "### Family Size"
   ]
  },
  {
   "cell_type": "code",
   "execution_count": 395,
   "id": "3db7a1a7",
   "metadata": {},
   "outputs": [
    {
     "data": {
      "image/png": "[encoded data removed]",
      "text/plain": [
       "<Figure size 1080x576 with 1 Axes>"
      ]
     },
     "metadata": {
      "needs_background": "light"
     },
     "output_type": "display_data"
    }
   ],
   "source": [
    "dist_plots('FamilyMembers', bins=5)"
   ]
  },
  {
   "cell_type": "markdown",
   "id": "13e0b417",
   "metadata": {},
   "source": [
    "In this dataset, very large families seem to be the majority. An average family has around 5 members. The values seem high for the western standards, but these may be the expected values in India. \n",
    "\n",
    "Next, we will see average family members for each travel insurance category. Essentialy, these two features may look irrelevant but it may still show us some insight."
   ]
  },
  {
   "cell_type": "code",
   "execution_count": 396,
   "id": "9be710c5",
   "metadata": {},
   "outputs": [
    {
     "data": {
      "image/png": "[encoded data removed]",
      "text/plain": [
       "<Figure size 1080x576 with 1 Axes>"
      ]
     },
     "metadata": {
      "needs_background": "light"
     },
     "output_type": "display_data"
    }
   ],
   "source": [
    "bar_compare(x='TravelInsurance', y='FamilyMembers',\n",
    "           title='',\n",
    "           tick_labels=['No', 'Yes'])"
   ]
  },
  {
   "cell_type": "markdown",
   "id": "df2836b0",
   "metadata": {},
   "source": [
    "People with insurance do not seem to have different number of family members from those who do not have insurance. Although the value is slightly higher for those who have insurance, the difference may not be significant. Let's test this with a hypothesis test."
   ]
  },
  {
   "cell_type": "markdown",
   "id": "8c053550",
   "metadata": {},
   "source": [
    "Considering all individuals in the dataset, do people with a travel insurance have a higher number of family members on average than those without one?\n",
    "\n",
    "**Population**: All individuals\n",
    "\n",
    "**Significance Level**: 0.05\n",
    "\n",
    "**Parameter of Interest**: $\\mu_1 - \\mu_2$,  Difference of mean family members\n",
    "\n",
    "**Null Hypothesis**: $\\mu_1 = \\mu_2$\n",
    "\n",
    "**Alternative Hypothesis**: $\\mu_1 > \\mu_2$"
   ]
  },
  {
   "cell_type": "code",
   "execution_count": 397,
   "id": "0c3a9db3",
   "metadata": {},
   "outputs": [
    {
     "name": "stdout",
     "output_type": "stream",
     "text": [
      "Test statistic: 2.3500469077137836\n",
      "p-value: 0.009385522670993683\n"
     ]
    }
   ],
   "source": [
    "test_stat, p_value = statsmodels.stats.weightstats.ztest(travel_train.loc[with_insurance, 'FamilyMembers'],\n",
    "                                                         travel_train.loc[~with_insurance, 'FamilyMembers'],\n",
    "                                                         alternative='larger')\n",
    "print(f\"Test statistic: {test_stat}\\n\\\n",
    "p-value: {p_value}\")"
   ]
  },
  {
   "cell_type": "markdown",
   "id": "18c5a2d4",
   "metadata": {},
   "source": [
    "In our test result, we have ended up with a really small p-value. This is smaller than the significance level we have set. This means that, there is enough evidence to say that individuals with travel insurance tend to have a larger family on average than those without one.\n",
    "\n",
    "This is again an important insight, we could help us improve our machine learning model."
   ]
  },
  {
   "cell_type": "markdown",
   "id": "4d61c8ed",
   "metadata": {},
   "source": [
    "### Chronic Diseases"
   ]
  },
  {
   "cell_type": "markdown",
   "id": "aa4e50bd",
   "metadata": {},
   "source": [
    "Travellers with chronic diseases may want to stay on the safe side and buy a travel insurance in case of an emergency. In this part we will see if that is true. Let's first check the distribution of people with chronic diseases."
   ]
  },
  {
   "cell_type": "code",
   "execution_count": 398,
   "id": "54809fa2",
   "metadata": {},
   "outputs": [
    {
     "data": {
      "image/png": "[encoded data removed]",
      "text/plain": [
       "<Figure size 1080x576 with 1 Axes>"
      ]
     },
     "metadata": {
      "needs_background": "light"
     },
     "output_type": "display_data"
    }
   ],
   "source": [
    "count_plots(x_col='ChronicDiseases', hue_col='TravelInsurance',\n",
    "           title='Individuals with Chronic Diseases',\n",
    "            tick_labels=['No', 'Yes'])"
   ]
  },
  {
   "cell_type": "markdown",
   "id": "744667ac",
   "metadata": {},
   "source": [
    "Although the people with chronic diseases are in the minority, they are still represented in high numbers in this dataset. Out of this group of individuals, those with travel insurances do not constitute a majority. Most people with chronicle illnesses do not have any travel insurances. A little bit more than half of this amount had a travel insurance. The ratio for those who do not have any chronic diseases is about the same. In this case, chronic diseases may not tell us a lot about an individual's preference over travel insurances. "
   ]
  },
  {
   "cell_type": "markdown",
   "id": "3cfb84a6",
   "metadata": {},
   "source": [
    "### Employment Type"
   ]
  },
  {
   "cell_type": "markdown",
   "id": "5a1439cb",
   "metadata": {},
   "source": [
    "There are two types of employment registered in this dataset. Let's look at how many individuals falls into each category. "
   ]
  },
  {
   "cell_type": "code",
   "execution_count": 399,
   "id": "8bfbcb41",
   "metadata": {},
   "outputs": [
    {
     "data": {
      "image/png": "[encoded data removed]",
      "text/plain": [
       "<Figure size 1080x576 with 1 Axes>"
      ]
     },
     "metadata": {
      "needs_background": "light"
     },
     "output_type": "display_data"
    }
   ],
   "source": [
    "count_plots(x_col='Employment Type', title='Employment Type', tick_labels=['Private Sector', 'Government'])"
   ]
  },
  {
   "cell_type": "markdown",
   "id": "9fbe2df5",
   "metadata": {},
   "source": [
    "Most people are employed in private sectors. Government workers are the minority. Perhaps there is a difference between these two groups in terms of travel insurances. Let's check it."
   ]
  },
  {
   "cell_type": "code",
   "execution_count": 400,
   "id": "e8d048d7",
   "metadata": {},
   "outputs": [
    {
     "data": {
      "image/png": "[encoded data removed]",
      "text/plain": [
       "<Figure size 1080x576 with 1 Axes>"
      ]
     },
     "metadata": {
      "needs_background": "light"
     },
     "output_type": "display_data"
    }
   ],
   "source": [
    "count_plots(x_col='Employment Type', title='Employment Type',\n",
    "            tick_labels=['Private Sector', 'Government'],\n",
    "           hue_col='TravelInsurance')"
   ]
  },
  {
   "cell_type": "markdown",
   "id": "e1653294",
   "metadata": {},
   "source": [
    "Private sector workers tend to get a travel insurance more than government workers. In government sector, people without a travel insurance constitutes an overwhelming majority. While on the private sector side, we see that people with and without travel insurances have much closer ratios. This insight may be useful in our prediction model."
   ]
  },
  {
   "cell_type": "markdown",
   "id": "4b0c13a6",
   "metadata": {},
   "source": [
    "## Correlation"
   ]
  },
  {
   "cell_type": "markdown",
   "id": "112f973c",
   "metadata": {},
   "source": [
    "Finally, let's look at the correlation between features to see a broader picture about our features."
   ]
  },
  {
   "cell_type": "code",
   "execution_count": 401,
   "id": "9e14a367",
   "metadata": {},
   "outputs": [],
   "source": [
    "cat_cols = ['Employment Type', 'GraduateOrNot', 'FrequentFlyer', 'EverTravelledAbroad']\n",
    "\n",
    "for i in cat_cols:\n",
    "    travel_train[i] = pd.Categorical(travel_train[i])\n",
    "    travel_train[i] = travel_train[i].cat.codes"
   ]
  },
  {
   "cell_type": "code",
   "execution_count": 402,
   "id": "c7f7b0c0",
   "metadata": {},
   "outputs": [
    {
     "data": {
      "image/png": "[encoded data removed]",
      "text/plain": [
       "<Figure size 1080x576 with 2 Axes>"
      ]
     },
     "metadata": {
      "needs_background": "light"
     },
     "output_type": "display_data"
    }
   ],
   "source": [
    "fig, ax = plt.subplots(figsize=(15,8))\n",
    "\n",
    "mask = np.triu(np.ones_like(travel_train.corr(), dtype='bool'))\n",
    "\n",
    "sns.heatmap(travel_train.corr(), mask=mask, vmin=-1, vmax=1, annot=True, cmap='RdBu')\n",
    "plt.show()"
   ]
  },
  {
   "cell_type": "markdown",
   "id": "50ad8ef3",
   "metadata": {},
   "source": [
    "It looks like annual income and ever travelled abroad columns have the most strong relationship with our target column. The relationships are not highly strong, but they may be good sources of knowledge for our model.\n",
    "\n",
    "For other columns, the strongest relationship is between annual income and ever travelled abroad. We have shown this relationship before in the analysis. Let's now move on to create our model. "
   ]
  },
  {
   "cell_type": "markdown",
   "id": "3550b7d5",
   "metadata": {},
   "source": [
    "## Summary"
   ]
  },
  {
   "cell_type": "markdown",
   "id": "9dd7264c",
   "metadata": {},
   "source": [
    "As we peeked into the data, we have gained some important insights. In the first section, we decided to take a closer look at travellers. We have discovered that there are more people without a travel insurance than those with one. As this is our target feature, we can say that this dataset is not absolutely balanced. However, the difference is not so stark that we needed to balance the categories. \n",
    "\n",
    "After this step, we took a look at the individuals who were frequent travellers. Frequent travellers were a minority in this dataset. However, we have found out that frequent travellers were likely to buy a travel insurance. \n",
    "\n",
    "We assumed that people who had ever travelled abroad would be likely to buy a travel insurance. We have confirmed this assumption as the data showed that people who had an overseas travel experience were very likely to buy an insurance. The difference was even higher for those who had visited a foreign country and at the same time were frequent flyers. \n",
    "\n",
    "In the next section, we have looked at different income levels. We have seen that even the lowest income in this dataset was higher than the average of India. This was an important insight as we have realized that this dataset may not be a good representation of the population of India. Here we discovered that individuals with a travel insurance had a much higher average income. We also checked the income levels of individuals who had an overseas experience and this group had an even higher average income.\n",
    "\n",
    "Education levels were indicated by whether individuals had a graduate level education or not. We have discovered that most people had a graduate level education. As we have discovered before, this dataset may not be a good representation of the whole population. The ratio of the people who bought a travel insurance were around the same for those with graduate level education and for those without one.\n",
    "\n",
    "Later, we have looked into age of the individuals. The range of age in this dataset was limited to represent only young people. As before, we have noted that this dataset was not a good representation of the whole market. We have discovered that there was a small difference between individuals with insurance and those without one, in terms of average age. We have confirmed with a hypothesis test that individuals with an insurance tend to be slightly older. \n",
    "\n",
    "In this dataset, we have discovered that an average family included around 5 individuals. This is a high number, but we should note here that this may be the expected value for the Indian society. It is dangerous to approach this with western thinking. Finally, we have discovered here that individuals with a travel insurance had more individuals in their families. The difference was confirmed with a hypothesis test. \n",
    "\n",
    "We also looked at the people who had a chronic disease. We suspected that this group of people may want to buy a travel insurance. Those who bought an insurance did not constitute a majority in this group, however they were more likely to get one than those without a chronic disease. \n",
    "\n",
    "In the end, we have checked the sectors that different individuals worked in. We have realized that most people were working in private sector, and this group was more likely to buy an insurance than those who worked in government. \n",
    "\n",
    "These insights were important, and we will use them to make decisions in our feature selection step."
   ]
  },
  {
   "cell_type": "markdown",
   "id": "4db830c1",
   "metadata": {},
   "source": [
    "# Travel Insurance Prediction Model"
   ]
  },
  {
   "cell_type": "markdown",
   "id": "4a23bb98",
   "metadata": {},
   "source": [
    "## Feature Engineering"
   ]
  },
  {
   "cell_type": "code",
   "execution_count": 403,
   "id": "7804ad38",
   "metadata": {},
   "outputs": [],
   "source": [
    "def bin_cats(dataset):\n",
    "    dataset['Age_binned'] = pd.cut(dataset['Age'], bins=5)\n",
    "    dataset['FamilyMembers_binned'] = pd.cut(dataset['FamilyMembers'], bins=3,\n",
    "           labels=['Small Family', 'Medium Family', 'Extended Family'])"
   ]
  },
  {
   "cell_type": "code",
   "execution_count": 404,
   "id": "734d92b3",
   "metadata": {},
   "outputs": [],
   "source": [
    "bin_cats(X_train)"
   ]
  },
  {
   "cell_type": "markdown",
   "id": "e9402327",
   "metadata": {},
   "source": [
    "The function transforms different numeric values into categories. We will later test if this improves the model performance."
   ]
  },
  {
   "cell_type": "markdown",
   "id": "9cd814c8",
   "metadata": {},
   "source": [
    "## Pipeline"
   ]
  },
  {
   "cell_type": "markdown",
   "id": "312081e6",
   "metadata": {},
   "source": [
    "In order to automatically scale to new data, we will create a pipeline, so that the transformations we make will be done on the new dataset before making predictions."
   ]
  },
  {
   "cell_type": "code",
   "execution_count": 405,
   "id": "8fcda893",
   "metadata": {},
   "outputs": [],
   "source": [
    "def make_preprocessor(data, scaler=True):\n",
    "    cat_cols = data.select_dtypes(include=['object', 'category']).columns\n",
    "    num_cols = data.select_dtypes(include=['int']).columns\n",
    "    \n",
    "    if scaler == True:\n",
    "        num_pipe = Pipeline(steps=[\n",
    "           ('imputer', SimpleImputer(strategy='mean'))\n",
    "          ,('scaler', StandardScaler())\n",
    "        ])\n",
    "    else:\n",
    "        num_pipe = Pipeline(steps=[\n",
    "           ('imputer', SimpleImputer(strategy='mean'))\n",
    "        ])\n",
    "    cat_pipe = Pipeline(steps=[\n",
    "        ('imputer', SimpleImputer(strategy='most_frequent'))\n",
    "        ,('encoder', OneHotEncoder(drop='first'))\n",
    "        ])\n",
    "    preprocessor = ColumnTransformer(\n",
    "       transformers=[\n",
    "        ('numeric', num_pipe, num_cols)\n",
    "       ,('categorical', cat_pipe, cat_cols)\n",
    "        ])\n",
    "    return preprocessor"
   ]
  },
  {
   "cell_type": "markdown",
   "id": "1d0f0d21",
   "metadata": {},
   "source": [
    "We selected categorical and numerical features to feed into their individual pipelines."
   ]
  },
  {
   "cell_type": "markdown",
   "id": "ca38cafe",
   "metadata": {},
   "source": [
    "For numerical categories, if there are missing values we want to fill them with the mean value. And then we will scale the values. For categorical ones, we want to fill the missing values with the most frequently seen one. They are later turned into numerical format using one hot encoder."
   ]
  },
  {
   "cell_type": "code",
   "execution_count": 406,
   "id": "de9fd192",
   "metadata": {},
   "outputs": [],
   "source": [
    "preprocessor = make_preprocessor(X_train)"
   ]
  },
  {
   "cell_type": "markdown",
   "id": "320b7b2d",
   "metadata": {},
   "source": [
    "Final preprocessor is ready to be fed into the final pipeline."
   ]
  },
  {
   "cell_type": "markdown",
   "id": "3ce52f9f",
   "metadata": {},
   "source": [
    "## Simple Models"
   ]
  },
  {
   "cell_type": "markdown",
   "id": "2bdb9634",
   "metadata": {},
   "source": [
    "First, we will fit some simple models to have an idea of which models have good performance with our dataset."
   ]
  },
  {
   "cell_type": "code",
   "execution_count": 407,
   "id": "b67fe6f2",
   "metadata": {},
   "outputs": [],
   "source": [
    "classifiers = [LogisticRegression(), KNeighborsClassifier(),\n",
    "               SVC(), DecisionTreeClassifier(), \n",
    "              GaussianNB()]"
   ]
  },
  {
   "cell_type": "code",
   "execution_count": 408,
   "id": "8706493e",
   "metadata": {},
   "outputs": [],
   "source": [
    "def fit_model(classifiers, X_train=X_train, y_train=y_train):\n",
    "    for i in classifiers:\n",
    "        pipeline = Pipeline(steps = [\n",
    "                   ('preprocessor', preprocessor)\n",
    "                  ,('classifier', i)])\n",
    "        model = pipeline.fit(X_train, y_train)\n",
    "        predictions = model.predict(X_train)\n",
    "        print (i)\n",
    "        print (f'Train accuracy:{accuracy_score(predictions, y_train)}')\n",
    "        print (f'Train recall:{recall_score(predictions, y_train)}')\n",
    "        print (f'Train roc_auc:{roc_auc_score(predictions, y_train)}')\n",
    "        cv = cross_validate(pipeline, X_train, y_train, cv=5, scoring=['accuracy', 'recall', 'roc_auc'])\n",
    "        print(i, 'Cross Validation')\n",
    "        print(pd.DataFrame(cv).mean(axis=0))"
   ]
  },
  {
   "cell_type": "code",
   "execution_count": 409,
   "id": "b300e14c",
   "metadata": {},
   "outputs": [
    {
     "name": "stdout",
     "output_type": "stream",
     "text": [
      "LogisticRegression()\n",
      "Train accuracy:0.781294964028777\n",
      "Train recall:0.7915407854984894\n",
      "Train roc_auc:0.7848166628153448\n",
      "LogisticRegression() Cross Validation\n",
      "fit_time         0.016953\n",
      "score_time       0.008610\n",
      "test_accuracy    0.779137\n",
      "test_recall      0.527071\n",
      "test_roc_auc     0.767993\n",
      "dtype: float64\n",
      "KNeighborsClassifier()\n",
      "Train accuracy:0.8352517985611511\n",
      "Train recall:0.8435897435897436\n",
      "Train roc_auc:0.8377948717948718\n",
      "KNeighborsClassifier() Cross Validation\n",
      "fit_time         0.012726\n",
      "score_time       0.014582\n",
      "test_accuracy    0.767626\n",
      "test_recall      0.563313\n",
      "test_roc_auc     0.767651\n",
      "dtype: float64\n",
      "SVC()\n",
      "Train accuracy:0.8309352517985612\n",
      "Train recall:0.8898809523809523\n",
      "Train roc_auc:0.8510125824523358\n",
      "SVC() Cross Validation\n",
      "fit_time         0.020305\n",
      "score_time       0.017931\n",
      "test_accuracy    0.820863\n",
      "test_recall      0.587394\n",
      "test_roc_auc     0.801515\n",
      "dtype: float64\n",
      "DecisionTreeClassifier()\n",
      "Train accuracy:0.9280575539568345\n",
      "Train recall:0.9783132530120482\n",
      "Train roc_auc:0.9424899598393575\n",
      "DecisionTreeClassifier() Cross Validation\n",
      "fit_time         0.006971\n",
      "score_time       0.005015\n",
      "test_accuracy    0.769784\n",
      "test_recall      0.615616\n",
      "test_roc_auc     0.748185\n",
      "dtype: float64\n",
      "GaussianNB()\n",
      "Train accuracy:0.7575539568345324\n",
      "Train recall:0.6785714285714286\n",
      "Train roc_auc:0.7368441006976039\n",
      "GaussianNB() Cross Validation\n",
      "fit_time         0.005482\n",
      "score_time       0.004702\n",
      "test_accuracy    0.748921\n",
      "test_recall      0.599596\n",
      "test_roc_auc     0.762693\n",
      "dtype: float64\n"
     ]
    }
   ],
   "source": [
    "fit_model(classifiers)"
   ]
  },
  {
   "cell_type": "markdown",
   "id": "936a9aca",
   "metadata": {},
   "source": [
    "All simple models performed better on training set rather than validation set. This could be a sign of overfitting. Later we will try to fix this by using penalties. \n",
    "\n",
    "For now, we will try to select the best models. For our purposes, we selected recall score as our target. We will evaluate the scores regarding to recall, accuracy and roc auc score. \n",
    "\n",
    "Support Vector Machine model seems to have the highest accuracy. However, in terms of recall, Decision Tree Classifier has a better score. KNN also has a close enough score in recall. We will keep these three models at hand and try to make an ensemble model out of them."
   ]
  },
  {
   "cell_type": "markdown",
   "id": "a7d22621",
   "metadata": {},
   "source": [
    "## Feature Selection"
   ]
  },
  {
   "cell_type": "markdown",
   "id": "08f8656f",
   "metadata": {},
   "source": [
    "In this section, we will use a Random Forest model to see which features are carrying the most importance. We will also use the insight we have extracted before to make a decision about feature selection."
   ]
  },
  {
   "cell_type": "code",
   "execution_count": 410,
   "id": "0e32ebb5",
   "metadata": {},
   "outputs": [],
   "source": [
    "processor = make_preprocessor(X_train)"
   ]
  },
  {
   "cell_type": "code",
   "execution_count": 411,
   "id": "6234228f",
   "metadata": {},
   "outputs": [
    {
     "data": {
      "text/plain": [
       "RandomForestClassifier()"
      ]
     },
     "execution_count": 411,
     "metadata": {},
     "output_type": "execute_result"
    }
   ],
   "source": [
    "X_train_new = preprocessor.fit_transform(X_train)\n",
    "rf = RandomForestClassifier()\n",
    "rf.fit(X_train_new, y_train)"
   ]
  },
  {
   "cell_type": "code",
   "execution_count": 412,
   "id": "103a79ef",
   "metadata": {},
   "outputs": [],
   "source": [
    "cat_col_names = preprocessor.transformers_[1][1]\\\n",
    "   .named_steps['encoder'].get_feature_names_out()"
   ]
  },
  {
   "cell_type": "code",
   "execution_count": 413,
   "id": "1b2f4218",
   "metadata": {},
   "outputs": [],
   "source": [
    "col_names = ['Age', 'AnnualIncome', 'FamilyMembers'] + list(cat_col_names)"
   ]
  },
  {
   "cell_type": "code",
   "execution_count": 414,
   "id": "64367bb8",
   "metadata": {},
   "outputs": [
    {
     "data": {
      "text/html": [
       "<div>\n",
       "<style scoped>\n",
       "    .dataframe tbody tr th:only-of-type {\n",
       "        vertical-align: middle;\n",
       "    }\n",
       "\n",
       "    .dataframe tbody tr th {\n",
       "        vertical-align: top;\n",
       "    }\n",
       "\n",
       "    .dataframe thead th {\n",
       "        text-align: right;\n",
       "    }\n",
       "</style>\n",
       "<table border=\"1\" class=\"dataframe\">\n",
       "  <thead>\n",
       "    <tr style=\"text-align: right;\">\n",
       "      <th></th>\n",
       "      <th>0</th>\n",
       "    </tr>\n",
       "  </thead>\n",
       "  <tbody>\n",
       "    <tr>\n",
       "      <th>AnnualIncome</th>\n",
       "      <td>0.411055</td>\n",
       "    </tr>\n",
       "    <tr>\n",
       "      <th>FamilyMembers</th>\n",
       "      <td>0.137440</td>\n",
       "    </tr>\n",
       "    <tr>\n",
       "      <th>x4_Yes</th>\n",
       "      <td>0.101902</td>\n",
       "    </tr>\n",
       "    <tr>\n",
       "      <th>Age</th>\n",
       "      <td>0.101544</td>\n",
       "    </tr>\n",
       "    <tr>\n",
       "      <th>x2_1</th>\n",
       "      <td>0.052166</td>\n",
       "    </tr>\n",
       "    <tr>\n",
       "      <th>x3_Yes</th>\n",
       "      <td>0.048163</td>\n",
       "    </tr>\n",
       "    <tr>\n",
       "      <th>x0_Private Sector/Self Employed</th>\n",
       "      <td>0.028496</td>\n",
       "    </tr>\n",
       "    <tr>\n",
       "      <th>x5_(33.0, 35.0]</th>\n",
       "      <td>0.023792</td>\n",
       "    </tr>\n",
       "    <tr>\n",
       "      <th>x5_(27.0, 29.0]</th>\n",
       "      <td>0.021454</td>\n",
       "    </tr>\n",
       "    <tr>\n",
       "      <th>x6_Small Family</th>\n",
       "      <td>0.019909</td>\n",
       "    </tr>\n",
       "    <tr>\n",
       "      <th>x1_Yes</th>\n",
       "      <td>0.016936</td>\n",
       "    </tr>\n",
       "    <tr>\n",
       "      <th>x6_Medium Family</th>\n",
       "      <td>0.016701</td>\n",
       "    </tr>\n",
       "    <tr>\n",
       "      <th>x5_(31.0, 33.0]</th>\n",
       "      <td>0.010518</td>\n",
       "    </tr>\n",
       "    <tr>\n",
       "      <th>x5_(29.0, 31.0]</th>\n",
       "      <td>0.009925</td>\n",
       "    </tr>\n",
       "  </tbody>\n",
       "</table>\n",
       "</div>"
      ],
      "text/plain": [
       "                                        0\n",
       "AnnualIncome                     0.411055\n",
       "FamilyMembers                    0.137440\n",
       "x4_Yes                           0.101902\n",
       "Age                              0.101544\n",
       "x2_1                             0.052166\n",
       "x3_Yes                           0.048163\n",
       "x0_Private Sector/Self Employed  0.028496\n",
       "x5_(33.0, 35.0]                  0.023792\n",
       "x5_(27.0, 29.0]                  0.021454\n",
       "x6_Small Family                  0.019909\n",
       "x1_Yes                           0.016936\n",
       "x6_Medium Family                 0.016701\n",
       "x5_(31.0, 33.0]                  0.010518\n",
       "x5_(29.0, 31.0]                  0.009925"
      ]
     },
     "execution_count": 414,
     "metadata": {},
     "output_type": "execute_result"
    }
   ],
   "source": [
    "pd.DataFrame(index=col_names, data=rf.feature_importances_).sort_values(0, ascending=False)"
   ]
  },
  {
   "cell_type": "markdown",
   "id": "ed51932f",
   "metadata": {},
   "source": [
    "In the random forest model, annual income had the most importance, followed by family members. Following categories look similar to what we have found to be relevant in our analysis. We will now try to subset the dataset and fit a new model."
   ]
  },
  {
   "cell_type": "code",
   "execution_count": 415,
   "id": "55f3848f",
   "metadata": {},
   "outputs": [
    {
     "name": "stdout",
     "output_type": "stream",
     "text": [
      "Cross Validation\n",
      "fit_time         0.001220\n",
      "score_time       0.001693\n",
      "test_accuracy    0.764029\n",
      "test_recall      0.535273\n",
      "test_roc_auc     0.720133\n",
      "dtype: float64\n"
     ]
    }
   ],
   "source": [
    "cv = cross_validate(DecisionTreeClassifier(),\n",
    "                    pd.get_dummies(X_train[['AnnualIncome', 'FamilyMembers',\n",
    "                                            'FrequentFlyer', 'EverTravelledAbroad']],\n",
    "                                   drop_first=True), y_train,\n",
    "                    cv=5, scoring=['accuracy', 'recall', 'roc_auc'])\n",
    "print('Cross Validation')\n",
    "print(pd.DataFrame(cv).mean(axis=0))"
   ]
  },
  {
   "cell_type": "markdown",
   "id": "e4d6a1c8",
   "metadata": {},
   "source": [
    "The features we have chosen have led to a decrease in model performance. We won't be eliminating any features for this model. Let's see whether the binned features we created bring any improvement to the model."
   ]
  },
  {
   "cell_type": "code",
   "execution_count": 416,
   "id": "c6402921",
   "metadata": {},
   "outputs": [],
   "source": [
    "def compare_improvement(cols):\n",
    "    for i in cols:\n",
    "        cv = cross_validate(DecisionTreeClassifier(),\n",
    "                        pd.get_dummies(X_train.drop(i, axis=1),\n",
    "                                       drop_first=True), y_train,\n",
    "                        cv=5, scoring=['accuracy', 'recall', 'roc_auc'])\n",
    "        print(f'Cross Validation without {i}')\n",
    "        print(pd.DataFrame(cv).mean(axis=0))\n",
    "        \n",
    "        cv = cross_validate(DecisionTreeClassifier(),\n",
    "                        pd.get_dummies(X_train.drop(f'{i}_binned', axis=1),\n",
    "                                       drop_first=True), y_train,\n",
    "                        cv=5, scoring=['accuracy', 'recall', 'roc_auc'])\n",
    "        print(f'Cross Validation without {i}_binned')\n",
    "        print(pd.DataFrame(cv).mean(axis=0))\n",
    "        \n",
    "        cv = cross_validate(DecisionTreeClassifier(),\n",
    "                        pd.get_dummies(X_train,\n",
    "                                       drop_first=True), y_train,\n",
    "                        cv=5, scoring=['accuracy', 'recall', 'roc_auc'])\n",
    "        print(f'Cross Validation with both')\n",
    "        print(pd.DataFrame(cv).mean(axis=0))"
   ]
  },
  {
   "cell_type": "code",
   "execution_count": 417,
   "id": "840a307e",
   "metadata": {},
   "outputs": [
    {
     "name": "stdout",
     "output_type": "stream",
     "text": [
      "Cross Validation without Age\n",
      "fit_time         0.001783\n",
      "score_time       0.001530\n",
      "test_accuracy    0.763309\n",
      "test_recall      0.591636\n",
      "test_roc_auc     0.739311\n",
      "dtype: float64\n",
      "Cross Validation without Age_binned\n",
      "fit_time         0.001670\n",
      "score_time       0.001360\n",
      "test_accuracy    0.765468\n",
      "test_recall      0.613616\n",
      "test_roc_auc     0.745266\n",
      "dtype: float64\n",
      "Cross Validation with both\n",
      "fit_time         0.001837\n",
      "score_time       0.001406\n",
      "test_accuracy    0.769065\n",
      "test_recall      0.611556\n",
      "test_roc_auc     0.748034\n",
      "dtype: float64\n",
      "Cross Validation without FamilyMembers\n",
      "fit_time         0.001650\n",
      "score_time       0.001458\n",
      "test_accuracy    0.774101\n",
      "test_recall      0.597515\n",
      "test_roc_auc     0.755582\n",
      "dtype: float64\n",
      "Cross Validation without FamilyMembers_binned\n",
      "fit_time         0.001785\n",
      "score_time       0.001455\n",
      "test_accuracy    0.766906\n",
      "test_recall      0.607616\n",
      "test_roc_auc     0.747231\n",
      "dtype: float64\n",
      "Cross Validation with both\n",
      "fit_time         0.001893\n",
      "score_time       0.001487\n",
      "test_accuracy    0.774820\n",
      "test_recall      0.617616\n",
      "test_roc_auc     0.755516\n",
      "dtype: float64\n"
     ]
    }
   ],
   "source": [
    "compare_improvement(['Age', 'FamilyMembers'])"
   ]
  },
  {
   "cell_type": "markdown",
   "id": "0407cba7",
   "metadata": {},
   "source": [
    "In all cases, we have seen that keeping only the binned features led to a worse performance in recall. However, keeping both together seems to improve the score slightly. We will keep all features."
   ]
  },
  {
   "cell_type": "markdown",
   "id": "2f8f044e",
   "metadata": {},
   "source": [
    "## Ensemble Models"
   ]
  },
  {
   "cell_type": "markdown",
   "id": "8d66ba6d",
   "metadata": {},
   "source": [
    "In this section, we will try different ensemble models to see which one is performing the best. We will check if they perform better than individual models, and if so, we will move on to the next step with the best one."
   ]
  },
  {
   "cell_type": "code",
   "execution_count": 418,
   "id": "6792e147",
   "metadata": {},
   "outputs": [],
   "source": [
    "preprocessor = make_preprocessor(X_train, scaler=True)"
   ]
  },
  {
   "cell_type": "code",
   "execution_count": 419,
   "id": "66e1964b",
   "metadata": {},
   "outputs": [
    {
     "name": "stdout",
     "output_type": "stream",
     "text": [
      "VotingClassifier(estimators=[('svc', SVC(probability=True)),\n",
      "                             ('tree', DecisionTreeClassifier()),\n",
      "                             ('kn', KNeighborsClassifier())],\n",
      "                 voting='soft')\n",
      "Train accuracy:0.8863309352517985\n",
      "Train recall:0.9335038363171355\n",
      "Train roc_auc:0.9006858520925016\n",
      "VotingClassifier(estimators=[('svc', SVC(probability=True)),\n",
      "                             ('tree', DecisionTreeClassifier()),\n",
      "                             ('kn', KNeighborsClassifier())],\n",
      "                 voting='soft') Cross Validation\n",
      "fit_time         0.089039\n",
      "score_time       0.019907\n",
      "test_accuracy    0.800000\n",
      "test_recall      0.615616\n",
      "test_roc_auc     0.803233\n",
      "dtype: float64\n"
     ]
    }
   ],
   "source": [
    "vt = VotingClassifier(\n",
    "    estimators=[('svc', SVC(probability=True)), ('tree', DecisionTreeClassifier()),\n",
    "               ('kn', KNeighborsClassifier())], voting='soft')\n",
    "fit_model([vt], X_train, y_train)"
   ]
  },
  {
   "cell_type": "code",
   "execution_count": 420,
   "id": "b5793829",
   "metadata": {},
   "outputs": [],
   "source": [
    "preprocessor = make_preprocessor(X_train, scaler=False)"
   ]
  },
  {
   "cell_type": "code",
   "execution_count": 421,
   "id": "1a93699b",
   "metadata": {},
   "outputs": [
    {
     "name": "stdout",
     "output_type": "stream",
     "text": [
      "RandomForestClassifier()\n",
      "Train accuracy:0.9280575539568345\n",
      "Train recall:0.9584295612009238\n",
      "Train roc_auc:0.9363725653444536\n",
      "RandomForestClassifier() Cross Validation\n",
      "fit_time         0.073529\n",
      "score_time       0.014995\n",
      "test_accuracy    0.793525\n",
      "test_recall      0.631636\n",
      "test_roc_auc     0.799212\n",
      "dtype: float64\n"
     ]
    }
   ],
   "source": [
    "rf = RandomForestClassifier()\n",
    "fit_model([rf], X_train, y_train)"
   ]
  },
  {
   "cell_type": "code",
   "execution_count": 422,
   "id": "89a68757",
   "metadata": {},
   "outputs": [
    {
     "name": "stdout",
     "output_type": "stream",
     "text": [
      "AdaBoostClassifier()\n",
      "Train accuracy:0.8100719424460432\n",
      "Train recall:0.9236363636363636\n",
      "Train roc_auc:0.8528495719527109\n",
      "AdaBoostClassifier() Cross Validation\n",
      "fit_time         0.035670\n",
      "score_time       0.009762\n",
      "test_accuracy    0.807914\n",
      "test_recall      0.520929\n",
      "test_roc_auc     0.786320\n",
      "dtype: float64\n"
     ]
    }
   ],
   "source": [
    "ada = AdaBoostClassifier()\n",
    "fit_model([ada], X_train, y_train)"
   ]
  },
  {
   "cell_type": "code",
   "execution_count": 423,
   "id": "2c0d2cd3",
   "metadata": {},
   "outputs": [
    {
     "name": "stdout",
     "output_type": "stream",
     "text": [
      "GradientBoostingClassifier()\n",
      "Train accuracy:0.8453237410071942\n",
      "Train recall:0.9325153374233128\n",
      "Train roc_auc:0.8755621799898519\n",
      "GradientBoostingClassifier() Cross Validation\n",
      "fit_time         0.065413\n",
      "score_time       0.006855\n",
      "test_accuracy    0.835971\n",
      "test_recall      0.589394\n",
      "test_roc_auc     0.812043\n",
      "dtype: float64\n"
     ]
    }
   ],
   "source": [
    "gra = GradientBoostingClassifier()\n",
    "fit_model([gra], X_train, y_train)"
   ]
  },
  {
   "cell_type": "markdown",
   "id": "4e55f913",
   "metadata": {},
   "source": [
    "Random forest model outperformed all other models in recall. It also has comparable performance in accuracy and roc auc scores.  As recall is relevant to our case, we will move on with random forest classifier. We will try to improve this model with hyperparameter tuning."
   ]
  },
  {
   "cell_type": "markdown",
   "id": "22fe5a30",
   "metadata": {},
   "source": [
    "## Fine Tuning"
   ]
  },
  {
   "cell_type": "code",
   "execution_count": 424,
   "id": "b9cb2ddb",
   "metadata": {},
   "outputs": [],
   "source": [
    "preprocessor = make_preprocessor(X_train, scaler=False)"
   ]
  },
  {
   "cell_type": "code",
   "execution_count": 425,
   "id": "670195b0",
   "metadata": {},
   "outputs": [],
   "source": [
    "params = {'rf__n_estimators': np.arange(10, 1000, 50),\n",
    "         'rf__min_samples_split': np.arange(2, 10, 1),\n",
    "         'rf__min_samples_leaf': np.arange(1, 6, 1),\n",
    "          'rf__criterion': ['gini', 'entropy', 'log_loss'],\n",
    "          'rf__max_features': ['sqrt', 'log2', None],\n",
    "          'rf__class_weight': ['balanced', 'balanced_subsample', None]\n",
    "         }\n",
    "\n",
    "pipeline = Pipeline(steps = [\n",
    "                   ('preprocessor', preprocessor)\n",
    "                  ,('rf', RandomForestClassifier(random_state=42))])\n",
    "\n",
    "search = RandomizedSearchCV(estimator=pipeline, cv=10,\n",
    "                            n_iter=150 ,param_distributions=params,\n",
    "                            n_jobs=-1, scoring='recall')"
   ]
  },
  {
   "cell_type": "code",
   "execution_count": 426,
   "id": "3e84e672",
   "metadata": {},
   "outputs": [
    {
     "data": {
      "text/plain": [
       "RandomizedSearchCV(cv=10,\n",
       "                   estimator=Pipeline(steps=[('preprocessor',\n",
       "                                              ColumnTransformer(transformers=[('numeric',\n",
       "                                                                               Pipeline(steps=[('imputer',\n",
       "                                                                                                SimpleImputer())]),\n",
       "                                                                               Index(['Age', 'AnnualIncome', 'FamilyMembers'], dtype='object')),\n",
       "                                                                              ('categorical',\n",
       "                                                                               Pipeline(steps=[('imputer',\n",
       "                                                                                                SimpleImputer(strategy='most_frequent')),\n",
       "                                                                                               ('encoder',\n",
       "                                                                                                OneHotEncoder(drop='first'))]),\n",
       "                                                                               Index([...\n",
       "                   param_distributions={'rf__class_weight': ['balanced',\n",
       "                                                             'balanced_subsample',\n",
       "                                                             None],\n",
       "                                        'rf__criterion': ['gini', 'entropy',\n",
       "                                                          'log_loss'],\n",
       "                                        'rf__max_features': ['sqrt', 'log2',\n",
       "                                                             None],\n",
       "                                        'rf__min_samples_leaf': array([1, 2, 3, 4, 5]),\n",
       "                                        'rf__min_samples_split': array([2, 3, 4, 5, 6, 7, 8, 9]),\n",
       "                                        'rf__n_estimators': array([ 10,  60, 110, 160, 210, 260, 310, 360, 410, 460, 510, 560, 610,\n",
       "       660, 710, 760, 810, 860, 910, 960])},\n",
       "                   scoring='recall')"
      ]
     },
     "execution_count": 426,
     "metadata": {},
     "output_type": "execute_result"
    }
   ],
   "source": [
    "search.fit(X_train, y_train)"
   ]
  },
  {
   "cell_type": "code",
   "execution_count": 427,
   "id": "73b7d443",
   "metadata": {},
   "outputs": [
    {
     "data": {
      "text/html": [
       "<div>\n",
       "<style scoped>\n",
       "    .dataframe tbody tr th:only-of-type {\n",
       "        vertical-align: middle;\n",
       "    }\n",
       "\n",
       "    .dataframe tbody tr th {\n",
       "        vertical-align: top;\n",
       "    }\n",
       "\n",
       "    .dataframe thead th {\n",
       "        text-align: right;\n",
       "    }\n",
       "</style>\n",
       "<table border=\"1\" class=\"dataframe\">\n",
       "  <thead>\n",
       "    <tr style=\"text-align: right;\">\n",
       "      <th></th>\n",
       "      <th>mean_fit_time</th>\n",
       "      <th>std_fit_time</th>\n",
       "      <th>mean_score_time</th>\n",
       "      <th>std_score_time</th>\n",
       "      <th>param_rf__n_estimators</th>\n",
       "      <th>param_rf__min_samples_split</th>\n",
       "      <th>param_rf__min_samples_leaf</th>\n",
       "      <th>param_rf__max_features</th>\n",
       "      <th>param_rf__criterion</th>\n",
       "      <th>param_rf__class_weight</th>\n",
       "      <th>...</th>\n",
       "      <th>split3_test_score</th>\n",
       "      <th>split4_test_score</th>\n",
       "      <th>split5_test_score</th>\n",
       "      <th>split6_test_score</th>\n",
       "      <th>split7_test_score</th>\n",
       "      <th>split8_test_score</th>\n",
       "      <th>split9_test_score</th>\n",
       "      <th>mean_test_score</th>\n",
       "      <th>std_test_score</th>\n",
       "      <th>rank_test_score</th>\n",
       "    </tr>\n",
       "  </thead>\n",
       "  <tbody>\n",
       "    <tr>\n",
       "      <th>12</th>\n",
       "      <td>0.034596</td>\n",
       "      <td>0.005754</td>\n",
       "      <td>0.006433</td>\n",
       "      <td>0.003752</td>\n",
       "      <td>10</td>\n",
       "      <td>9</td>\n",
       "      <td>2</td>\n",
       "      <td>None</td>\n",
       "      <td>entropy</td>\n",
       "      <td>balanced</td>\n",
       "      <td>...</td>\n",
       "      <td>0.66</td>\n",
       "      <td>0.68</td>\n",
       "      <td>0.7</td>\n",
       "      <td>0.68</td>\n",
       "      <td>0.68</td>\n",
       "      <td>0.62</td>\n",
       "      <td>0.76</td>\n",
       "      <td>0.675959</td>\n",
       "      <td>0.039323</td>\n",
       "      <td>1</td>\n",
       "    </tr>\n",
       "    <tr>\n",
       "      <th>13</th>\n",
       "      <td>2.059670</td>\n",
       "      <td>0.123383</td>\n",
       "      <td>0.063063</td>\n",
       "      <td>0.009846</td>\n",
       "      <td>860</td>\n",
       "      <td>4</td>\n",
       "      <td>2</td>\n",
       "      <td>None</td>\n",
       "      <td>gini</td>\n",
       "      <td>balanced_subsample</td>\n",
       "      <td>...</td>\n",
       "      <td>0.64</td>\n",
       "      <td>0.68</td>\n",
       "      <td>0.7</td>\n",
       "      <td>0.70</td>\n",
       "      <td>0.70</td>\n",
       "      <td>0.60</td>\n",
       "      <td>0.72</td>\n",
       "      <td>0.671959</td>\n",
       "      <td>0.046522</td>\n",
       "      <td>2</td>\n",
       "    </tr>\n",
       "    <tr>\n",
       "      <th>115</th>\n",
       "      <td>1.150064</td>\n",
       "      <td>0.022242</td>\n",
       "      <td>0.039505</td>\n",
       "      <td>0.002426</td>\n",
       "      <td>610</td>\n",
       "      <td>3</td>\n",
       "      <td>2</td>\n",
       "      <td>None</td>\n",
       "      <td>gini</td>\n",
       "      <td>balanced</td>\n",
       "      <td>...</td>\n",
       "      <td>0.64</td>\n",
       "      <td>0.68</td>\n",
       "      <td>0.7</td>\n",
       "      <td>0.68</td>\n",
       "      <td>0.68</td>\n",
       "      <td>0.62</td>\n",
       "      <td>0.72</td>\n",
       "      <td>0.667918</td>\n",
       "      <td>0.039261</td>\n",
       "      <td>3</td>\n",
       "    </tr>\n",
       "    <tr>\n",
       "      <th>34</th>\n",
       "      <td>0.372533</td>\n",
       "      <td>0.016346</td>\n",
       "      <td>0.014829</td>\n",
       "      <td>0.003365</td>\n",
       "      <td>160</td>\n",
       "      <td>2</td>\n",
       "      <td>2</td>\n",
       "      <td>None</td>\n",
       "      <td>entropy</td>\n",
       "      <td>balanced</td>\n",
       "      <td>...</td>\n",
       "      <td>0.64</td>\n",
       "      <td>0.68</td>\n",
       "      <td>0.7</td>\n",
       "      <td>0.68</td>\n",
       "      <td>0.68</td>\n",
       "      <td>0.60</td>\n",
       "      <td>0.72</td>\n",
       "      <td>0.661837</td>\n",
       "      <td>0.041119</td>\n",
       "      <td>4</td>\n",
       "    </tr>\n",
       "    <tr>\n",
       "      <th>58</th>\n",
       "      <td>0.515602</td>\n",
       "      <td>0.026169</td>\n",
       "      <td>0.017033</td>\n",
       "      <td>0.003098</td>\n",
       "      <td>210</td>\n",
       "      <td>2</td>\n",
       "      <td>2</td>\n",
       "      <td>None</td>\n",
       "      <td>entropy</td>\n",
       "      <td>balanced_subsample</td>\n",
       "      <td>...</td>\n",
       "      <td>0.64</td>\n",
       "      <td>0.68</td>\n",
       "      <td>0.7</td>\n",
       "      <td>0.68</td>\n",
       "      <td>0.68</td>\n",
       "      <td>0.62</td>\n",
       "      <td>0.72</td>\n",
       "      <td>0.661796</td>\n",
       "      <td>0.045395</td>\n",
       "      <td>5</td>\n",
       "    </tr>\n",
       "    <tr>\n",
       "      <th>70</th>\n",
       "      <td>0.214990</td>\n",
       "      <td>0.020756</td>\n",
       "      <td>0.010753</td>\n",
       "      <td>0.003337</td>\n",
       "      <td>110</td>\n",
       "      <td>3</td>\n",
       "      <td>2</td>\n",
       "      <td>None</td>\n",
       "      <td>gini</td>\n",
       "      <td>balanced</td>\n",
       "      <td>...</td>\n",
       "      <td>0.66</td>\n",
       "      <td>0.68</td>\n",
       "      <td>0.7</td>\n",
       "      <td>0.62</td>\n",
       "      <td>0.68</td>\n",
       "      <td>0.60</td>\n",
       "      <td>0.72</td>\n",
       "      <td>0.657837</td>\n",
       "      <td>0.042065</td>\n",
       "      <td>6</td>\n",
       "    </tr>\n",
       "    <tr>\n",
       "      <th>11</th>\n",
       "      <td>1.683343</td>\n",
       "      <td>0.066504</td>\n",
       "      <td>0.045803</td>\n",
       "      <td>0.006147</td>\n",
       "      <td>710</td>\n",
       "      <td>2</td>\n",
       "      <td>3</td>\n",
       "      <td>None</td>\n",
       "      <td>entropy</td>\n",
       "      <td>balanced_subsample</td>\n",
       "      <td>...</td>\n",
       "      <td>0.64</td>\n",
       "      <td>0.68</td>\n",
       "      <td>0.7</td>\n",
       "      <td>0.64</td>\n",
       "      <td>0.68</td>\n",
       "      <td>0.62</td>\n",
       "      <td>0.72</td>\n",
       "      <td>0.655755</td>\n",
       "      <td>0.048639</td>\n",
       "      <td>7</td>\n",
       "    </tr>\n",
       "    <tr>\n",
       "      <th>10</th>\n",
       "      <td>2.185673</td>\n",
       "      <td>0.058225</td>\n",
       "      <td>0.058989</td>\n",
       "      <td>0.003162</td>\n",
       "      <td>910</td>\n",
       "      <td>6</td>\n",
       "      <td>3</td>\n",
       "      <td>None</td>\n",
       "      <td>entropy</td>\n",
       "      <td>balanced_subsample</td>\n",
       "      <td>...</td>\n",
       "      <td>0.64</td>\n",
       "      <td>0.66</td>\n",
       "      <td>0.7</td>\n",
       "      <td>0.64</td>\n",
       "      <td>0.68</td>\n",
       "      <td>0.62</td>\n",
       "      <td>0.72</td>\n",
       "      <td>0.653755</td>\n",
       "      <td>0.048008</td>\n",
       "      <td>8</td>\n",
       "    </tr>\n",
       "    <tr>\n",
       "      <th>9</th>\n",
       "      <td>0.342816</td>\n",
       "      <td>0.024963</td>\n",
       "      <td>0.015150</td>\n",
       "      <td>0.005043</td>\n",
       "      <td>160</td>\n",
       "      <td>8</td>\n",
       "      <td>3</td>\n",
       "      <td>None</td>\n",
       "      <td>gini</td>\n",
       "      <td>balanced</td>\n",
       "      <td>...</td>\n",
       "      <td>0.62</td>\n",
       "      <td>0.68</td>\n",
       "      <td>0.7</td>\n",
       "      <td>0.64</td>\n",
       "      <td>0.66</td>\n",
       "      <td>0.60</td>\n",
       "      <td>0.72</td>\n",
       "      <td>0.651796</td>\n",
       "      <td>0.048579</td>\n",
       "      <td>9</td>\n",
       "    </tr>\n",
       "    <tr>\n",
       "      <th>28</th>\n",
       "      <td>1.916377</td>\n",
       "      <td>0.023817</td>\n",
       "      <td>0.052330</td>\n",
       "      <td>0.004872</td>\n",
       "      <td>860</td>\n",
       "      <td>9</td>\n",
       "      <td>2</td>\n",
       "      <td>None</td>\n",
       "      <td>entropy</td>\n",
       "      <td>balanced_subsample</td>\n",
       "      <td>...</td>\n",
       "      <td>0.64</td>\n",
       "      <td>0.66</td>\n",
       "      <td>0.7</td>\n",
       "      <td>0.64</td>\n",
       "      <td>0.68</td>\n",
       "      <td>0.60</td>\n",
       "      <td>0.72</td>\n",
       "      <td>0.651755</td>\n",
       "      <td>0.049758</td>\n",
       "      <td>10</td>\n",
       "    </tr>\n",
       "  </tbody>\n",
       "</table>\n",
       "<p>10 rows × 24 columns</p>\n",
       "</div>"
      ],
      "text/plain": [
       "     mean_fit_time  std_fit_time  mean_score_time  std_score_time  \\\n",
       "12        0.034596      0.005754         0.006433        0.003752   \n",
       "13        2.059670      0.123383         0.063063        0.009846   \n",
       "115       1.150064      0.022242         0.039505        0.002426   \n",
       "34        0.372533      0.016346         0.014829        0.003365   \n",
       "58        0.515602      0.026169         0.017033        0.003098   \n",
       "70        0.214990      0.020756         0.010753        0.003337   \n",
       "11        1.683343      0.066504         0.045803        0.006147   \n",
       "10        2.185673      0.058225         0.058989        0.003162   \n",
       "9         0.342816      0.024963         0.015150        0.005043   \n",
       "28        1.916377      0.023817         0.052330        0.004872   \n",
       "\n",
       "    param_rf__n_estimators param_rf__min_samples_split  \\\n",
       "12                      10                           9   \n",
       "13                     860                           4   \n",
       "115                    610                           3   \n",
       "34                     160                           2   \n",
       "58                     210                           2   \n",
       "70                     110                           3   \n",
       "11                     710                           2   \n",
       "10                     910                           6   \n",
       "9                      160                           8   \n",
       "28                     860                           9   \n",
       "\n",
       "    param_rf__min_samples_leaf param_rf__max_features param_rf__criterion  \\\n",
       "12                           2                   None             entropy   \n",
       "13                           2                   None                gini   \n",
       "115                          2                   None                gini   \n",
       "34                           2                   None             entropy   \n",
       "58                           2                   None             entropy   \n",
       "70                           2                   None                gini   \n",
       "11                           3                   None             entropy   \n",
       "10                           3                   None             entropy   \n",
       "9                            3                   None                gini   \n",
       "28                           2                   None             entropy   \n",
       "\n",
       "    param_rf__class_weight  ... split3_test_score  split4_test_score  \\\n",
       "12                balanced  ...              0.66               0.68   \n",
       "13      balanced_subsample  ...              0.64               0.68   \n",
       "115               balanced  ...              0.64               0.68   \n",
       "34                balanced  ...              0.64               0.68   \n",
       "58      balanced_subsample  ...              0.64               0.68   \n",
       "70                balanced  ...              0.66               0.68   \n",
       "11      balanced_subsample  ...              0.64               0.68   \n",
       "10      balanced_subsample  ...              0.64               0.66   \n",
       "9                 balanced  ...              0.62               0.68   \n",
       "28      balanced_subsample  ...              0.64               0.66   \n",
       "\n",
       "     split5_test_score  split6_test_score  split7_test_score  \\\n",
       "12                 0.7               0.68               0.68   \n",
       "13                 0.7               0.70               0.70   \n",
       "115                0.7               0.68               0.68   \n",
       "34                 0.7               0.68               0.68   \n",
       "58                 0.7               0.68               0.68   \n",
       "70                 0.7               0.62               0.68   \n",
       "11                 0.7               0.64               0.68   \n",
       "10                 0.7               0.64               0.68   \n",
       "9                  0.7               0.64               0.66   \n",
       "28                 0.7               0.64               0.68   \n",
       "\n",
       "     split8_test_score  split9_test_score  mean_test_score  std_test_score  \\\n",
       "12                0.62               0.76         0.675959        0.039323   \n",
       "13                0.60               0.72         0.671959        0.046522   \n",
       "115               0.62               0.72         0.667918        0.039261   \n",
       "34                0.60               0.72         0.661837        0.041119   \n",
       "58                0.62               0.72         0.661796        0.045395   \n",
       "70                0.60               0.72         0.657837        0.042065   \n",
       "11                0.62               0.72         0.655755        0.048639   \n",
       "10                0.62               0.72         0.653755        0.048008   \n",
       "9                 0.60               0.72         0.651796        0.048579   \n",
       "28                0.60               0.72         0.651755        0.049758   \n",
       "\n",
       "     rank_test_score  \n",
       "12                 1  \n",
       "13                 2  \n",
       "115                3  \n",
       "34                 4  \n",
       "58                 5  \n",
       "70                 6  \n",
       "11                 7  \n",
       "10                 8  \n",
       "9                  9  \n",
       "28                10  \n",
       "\n",
       "[10 rows x 24 columns]"
      ]
     },
     "execution_count": 427,
     "metadata": {},
     "output_type": "execute_result"
    }
   ],
   "source": [
    "pd.DataFrame(search.cv_results_).sort_values('rank_test_score').head(10)"
   ]
  },
  {
   "cell_type": "markdown",
   "id": "9f6600d2",
   "metadata": {},
   "source": [
    "With randomized search, we have tested different hyperparameters, and the best model returned 0.68 recall score. This means that on average, this model was able to detect 68 percent of all people with a travel insurance. We will move on with this model and see how it performs on the training set."
   ]
  },
  {
   "cell_type": "code",
   "execution_count": 431,
   "id": "a4c12b2c",
   "metadata": {},
   "outputs": [
    {
     "name": "stdout",
     "output_type": "stream",
     "text": [
      "Train roc_auc:0.8799457223839731\n",
      "Train recall:0.880184331797235\n",
      "Train accuracy:0.8798561151079136\n"
     ]
    }
   ],
   "source": [
    "predictions = search.predict(X_train)\n",
    "print (f'Train roc_auc:{roc_auc_score(predictions, y_train)}')\n",
    "print (f'Train recall:{recall_score(predictions, y_train)}')\n",
    "print (f'Train accuracy:{accuracy_score(predictions, y_train)}')"
   ]
  },
  {
   "cell_type": "markdown",
   "id": "64eb376c",
   "metadata": {},
   "source": [
    "The model is showing higher scores on the training set. It may be overfitting on the training set. However, the differences are not too dramatic. The model may work well on the test data."
   ]
  },
  {
   "cell_type": "code",
   "execution_count": 447,
   "id": "4e275870",
   "metadata": {},
   "outputs": [
    {
     "data": {
      "image/png": "[encoded data removed]",
      "text/plain": [
       "<Figure size 1080x576 with 2 Axes>"
      ]
     },
     "metadata": {
      "needs_background": "light"
     },
     "output_type": "display_data"
    }
   ],
   "source": [
    "fig, ax = plt.subplots(figsize=(15, 8))\n",
    "ConfusionMatrixDisplay.from_predictions(predictions, y_train, ax=ax)\n",
    "plt.show()"
   ]
  },
  {
   "cell_type": "markdown",
   "id": "14c2a17a",
   "metadata": {},
   "source": [
    "Confusion matrix shows that the model was able to identify 382 individuals with travel insurances correctly. However, it missed 52 people. This is not a bad job. However, this is only the results on the training data. We will need to evaluate the same on the test data."
   ]
  },
  {
   "cell_type": "code",
   "execution_count": 433,
   "id": "e0091e7f",
   "metadata": {},
   "outputs": [],
   "source": [
    "bin_cats(X_test)"
   ]
  },
  {
   "cell_type": "code",
   "execution_count": 437,
   "id": "cd02484d",
   "metadata": {},
   "outputs": [],
   "source": [
    "y_pred = search.predict(X_test)"
   ]
  },
  {
   "cell_type": "code",
   "execution_count": 441,
   "id": "2c0fab7f",
   "metadata": {},
   "outputs": [
    {
     "name": "stdout",
     "output_type": "stream",
     "text": [
      "Train roc_auc:0.7853114478114478\n",
      "Train recall:0.7696969696969697\n",
      "Train accuracy:0.7922948073701842\n"
     ]
    }
   ],
   "source": [
    "print (f'Train roc_auc:{roc_auc_score(y_pred, y_test)}')\n",
    "print (f'Train recall:{recall_score(y_pred, y_test)}')\n",
    "print (f'Train accuracy:{accuracy_score(y_pred, y_test)}')"
   ]
  },
  {
   "cell_type": "markdown",
   "id": "d662257a",
   "metadata": {},
   "source": [
    "The model performs relatively well on the test data. The results are not as good as the training data, however they are still good for our case. Let's take a closer look."
   ]
  },
  {
   "cell_type": "code",
   "execution_count": 439,
   "id": "5578afd2",
   "metadata": {},
   "outputs": [
    {
     "name": "stdout",
     "output_type": "stream",
     "text": [
      "              precision    recall  f1-score   support\n",
      "\n",
      "           0       0.90      0.80      0.85       432\n",
      "           1       0.60      0.77      0.67       165\n",
      "\n",
      "    accuracy                           0.79       597\n",
      "   macro avg       0.75      0.79      0.76       597\n",
      "weighted avg       0.82      0.79      0.80       597\n",
      "\n"
     ]
    }
   ],
   "source": [
    "print(classification_report(y_pred, y_test))"
   ]
  },
  {
   "cell_type": "markdown",
   "id": "03437e2f",
   "metadata": {},
   "source": [
    "The model has a 79% accuracy. In our case, we wanted to know the people who are likely to get a travel insurance. Our model was able to identify 77% of these people correctly. This is a good score, as we don't mind sending ads to people who are not likely to get an insurance. And according to our result, the people we will send ads are very likely to be someone who would get an insurance."
   ]
  },
  {
   "cell_type": "code",
   "execution_count": 440,
   "id": "ec3697cc",
   "metadata": {},
   "outputs": [
    {
     "data": {
      "image/png": "[encoded data removed]",
      "text/plain": [
       "<Figure size 1080x576 with 2 Axes>"
      ]
     },
     "metadata": {
      "needs_background": "light"
     },
     "output_type": "display_data"
    }
   ],
   "source": [
    "fig, ax = plt.subplots(figsize=(15, 8))\n",
    "ConfusionMatrixDisplay.from_predictions(y_pred, y_test, ax=ax)\n",
    "plt.show()"
   ]
  },
  {
   "cell_type": "markdown",
   "id": "5210a8e0",
   "metadata": {},
   "source": [
    "This graph shows that we were able to detect 127 people with travel insurance correctly. We have missed 38 people. We have also detected 83 people incorrectly. However, we want to reach as many people as possible who would be likely to get a travel insurance, and we don't mind reaching those who wouldn't want one. "
   ]
  },
  {
   "cell_type": "markdown",
   "id": "8a6e4701",
   "metadata": {},
   "source": [
    "# Results"
   ]
  },
  {
   "cell_type": "markdown",
   "id": "a097d953",
   "metadata": {},
   "source": [
    "We have checked several different models on our validation set. Out of the models that we have tested, Support Vector Machines, Decision Trees and KNN models were the best performing ones. Decision Trees had the best performance in recall score, which was relevant in our case. \n",
    "\n",
    "In order to improve our model performance, we have tested the insights that we have gained in EDA. In this section, we have realized that when we removed the features that we deemed less relevant, the model performance dropped. Finally, we have checked whether the new features we have created would improve the performance. We decided to keep all features at this step.\n",
    "\n",
    "In order to see if ensemble models would result in better performance, we have checked several different ensemble models. Namely, voting classifier, random forest, adaboost and gradient boost. We fit the voting classifier with the best performing models we have tested before. We scaled the features for voting classifier, and kept them as they are for other tree based ensemble models. As a result, random forest model outperformed others. We have decided work further on random forest model. \n",
    "\n",
    "In order to improve our model, we have decided to work on hyperparameters of our model. We created a search space with some possible hyperparameters, and tested. Finally we came up with a model, which resulted in 68% recall score on the validation data.\n",
    "\n",
    "At the end, we tested the model performance with the test data. The model was able to correctly identify 77% of all individuals with a travel insurance. For our case, we wanted to reach as many people as possible who would be likely to get a travel insurance. This score is adequate for our use case. We will be able to identify about 77% of people who want to get a travel insurance."
   ]
  },
  {
   "cell_type": "markdown",
   "id": "cc839e00",
   "metadata": {},
   "source": [
    "# Next Steps"
   ]
  },
  {
   "cell_type": "markdown",
   "id": "0c9871a0",
   "metadata": {},
   "source": [
    "Since we have a complete model, the first next step is to launch the model and identify the individuals who would want to buy an insurance. With this information, we can send them relevant ads and attract them.\n",
    "\n",
    "We had a small dataset at hand. As a result of this, the model was able to only learn the examples contained in this limited space. In order to generalize better, we may need to collect more data and learn more about the customers."
   ]
  }
 ],
 "metadata": {
  "kernelspec": {
   "display_name": "Python 3 (ipykernel)",
   "language": "python",
   "name": "python3"
  },
  "language_info": {
   "codemirror_mode": {
    "name": "ipython",
    "version": 3
   },
   "file_extension": ".py",
   "mimetype": "text/x-python",
   "name": "python",
   "nbconvert_exporter": "python",
   "pygments_lexer": "ipython3",
   "version": "3.9.12"
  }
 },
 "nbformat": 4,
 "nbformat_minor": 5
}
